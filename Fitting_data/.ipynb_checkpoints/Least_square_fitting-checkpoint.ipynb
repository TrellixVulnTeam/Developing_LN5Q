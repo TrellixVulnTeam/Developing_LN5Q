{
 "cells": [
  {
   "cell_type": "markdown",
   "metadata": {},
   "source": [
    "# Fitting data with least squares\n",
    "Write here the theory from the book that Daan told me"
   ]
  },
  {
   "cell_type": "markdown",
   "metadata": {},
   "source": [
    "# Power law example\n",
    "This example is taken from \n",
    "https://scipy.github.io/old-wiki/pages/Cookbook/FittingData.html#Fitting_a_power-law_to_data_with_errors\n",
    "suppose that we have the following power law:\n",
    "\n",
    "$y=ax^b$\n",
    "\n",
    "with $a=10$, $b=-2$\n",
    "\n",
    "so lets first generate the data"
   ]
  },
  {
   "cell_type": "code",
   "execution_count": 4,
   "metadata": {},
   "outputs": [],
   "source": [
    "from pylab import *\n",
    "from scipy import *\n",
    "\n",
    "# Define function for calculating a power law\n",
    "powerlaw = lambda x, amp, index: amp * (x**index)\n",
    "\n",
    "##########\n",
    "# Generate data points with noise\n",
    "##########\n",
    "num_points = 20\n",
    "\n",
    "# Note: all positive, non-zero data\n",
    "xdata = linspace(1.1, 10.1, num_points) \n",
    "ydata = powerlaw(xdata, 10.0, -2.0)     # simulated perfect data"
   ]
  },
  {
   "cell_type": "markdown",
   "metadata": {},
   "source": [
    "now lets add some gaussian noise to the data with 10% error."
   ]
  },
  {
   "cell_type": "code",
   "execution_count": 2,
   "metadata": {},
   "outputs": [],
   "source": [
    "yerr = 0.2 * ydata                      # simulated errors (10%)\n",
    "ydata += randn(num_points) * yerr       # simulated noisy data"
   ]
  },
  {
   "cell_type": "markdown",
   "metadata": {},
   "source": [
    "If your data is well-behaved, you can fit a power-law function by first converting to a linear equation by using the logarithm. Then use the optimize function to fit a straight line. Notice that we are weighting by positional uncertainties during the fit. Also, the best-fit parameters uncertainties are estimated from the variance-covariance matrix."
   ]
  },
  {
   "cell_type": "code",
   "execution_count": 5,
   "metadata": {},
   "outputs": [
    {
     "ename": "NameError",
     "evalue": "name 'optimize' is not defined",
     "output_type": "error",
     "traceback": [
      "\u001b[0;31m---------------------------------------------------------------------------\u001b[0m",
      "\u001b[0;31mNameError\u001b[0m                                 Traceback (most recent call last)",
      "\u001b[0;32m<ipython-input-5-5ebd7e75506e>\u001b[0m in \u001b[0;36m<module>\u001b[0;34m()\u001b[0m\n\u001b[1;32m     19\u001b[0m \u001b[0;34m\u001b[0m\u001b[0m\n\u001b[1;32m     20\u001b[0m \u001b[0mpinit\u001b[0m \u001b[0;34m=\u001b[0m \u001b[0;34m[\u001b[0m\u001b[0;36m1.0\u001b[0m\u001b[0;34m,\u001b[0m \u001b[0;34m-\u001b[0m\u001b[0;36m1.0\u001b[0m\u001b[0;34m]\u001b[0m\u001b[0;34m\u001b[0m\u001b[0m\n\u001b[0;32m---> 21\u001b[0;31m out = optimize.leastsq(errfunc, pinit,\n\u001b[0m\u001b[1;32m     22\u001b[0m                        args=(logx, logy, logyerr), full_output=1)\n\u001b[1;32m     23\u001b[0m \u001b[0;34m\u001b[0m\u001b[0m\n",
      "\u001b[0;31mNameError\u001b[0m: name 'optimize' is not defined"
     ]
    }
   ],
   "source": [
    "from scipy import optimize\n",
    "##########\n",
    "# Fitting the data -- Least Squares Method\n",
    "##########\n",
    "\n",
    "# Power-law fitting is best done by first converting\n",
    "# to a linear equation and then fitting to a straight line.\n",
    "#\n",
    "#  y = a * x^b\n",
    "#  log(y) = log(a) + b*log(x)\n",
    "#\n",
    "\n",
    "logx = log10(xdata)\n",
    "logy = log10(ydata)\n",
    "logyerr = yerr / ydata\n",
    "\n",
    "# define our (line) fitting function\n",
    "fitfunc = lambda p, x: p[0] + p[1] * x   \n",
    "errfunc = lambda p, x, y, err: (y - fitfunc(p, x)) / err\n",
    "\n",
    "pinit = [1.0, -1.0]\n",
    "out = optimize.leastsq(errfunc, pinit,\n",
    "                       args=(logx, logy, logyerr), full_output=1)\n",
    "\n",
    "pfinal = out[0]\n",
    "covar = out[1]\n",
    "print pfinal\n",
    "print covar\n",
    "\n",
    "index = pfinal[1]\n",
    "amp = 10.0**pfinal[0]\n",
    "\n",
    "indexErr = sqrt( covar[0][0] ) \n",
    "ampErr = sqrt( covar[1][1] ) * amp\n",
    "\n",
    "##########\n",
    "# Plotting data\n",
    "##########\n",
    "\n",
    "clf()\n",
    "subplot(2, 1, 1)\n",
    "plot(xdata, powerlaw(xdata, amp, index))     # Fit\n",
    "errorbar(xdata, ydata, yerr=yerr, fmt='k.')  # Data\n",
    "text(5, 6.5, 'Ampli = %5.2f +/- %5.2f' % (amp, ampErr))\n",
    "text(5, 5.5, 'Index = %5.2f +/- %5.2f' % (index, indexErr))\n",
    "title('Best Fit Power Law')\n",
    "xlabel('X')\n",
    "ylabel('Y')\n",
    "xlim(1, 11)\n",
    "\n",
    "subplot(2, 1, 2)\n",
    "loglog(xdata, powerlaw(xdata, amp, index))\n",
    "errorbar(xdata, ydata, yerr=yerr, fmt='k.')  # Data\n",
    "xlabel('X (log scale)')\n",
    "ylabel('Y (log scale)')\n",
    "xlim(1.0, 11)\n",
    "\n",
    "savefig('power_law_fit.png')"
   ]
  }
 ],
 "metadata": {
  "kernelspec": {
   "display_name": "Python 2",
   "language": "python",
   "name": "python2"
  },
  "language_info": {
   "codemirror_mode": {
    "name": "ipython",
    "version": 2
   },
   "file_extension": ".py",
   "mimetype": "text/x-python",
   "name": "python",
   "nbconvert_exporter": "python",
   "pygments_lexer": "ipython2",
   "version": "2.7.15"
  },
  "varInspector": {
   "cols": {
    "lenName": 16,
    "lenType": 16,
    "lenVar": 40
   },
   "kernels_config": {
    "python": {
     "delete_cmd_postfix": "",
     "delete_cmd_prefix": "del ",
     "library": "var_list.py",
     "varRefreshCmd": "print(var_dic_list())"
    },
    "r": {
     "delete_cmd_postfix": ") ",
     "delete_cmd_prefix": "rm(",
     "library": "var_list.r",
     "varRefreshCmd": "cat(var_dic_list()) "
    }
   },
   "position": {
    "height": "657px",
    "left": "1173px",
    "right": "20px",
    "top": "129px",
    "width": "409px"
   },
   "types_to_exclude": [
    "module",
    "function",
    "builtin_function_or_method",
    "instance",
    "_Feature"
   ],
   "window_display": true
  }
 },
 "nbformat": 4,
 "nbformat_minor": 2
}
